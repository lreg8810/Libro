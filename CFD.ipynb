{
  "nbformat": 4,
  "nbformat_minor": 0,
  "metadata": {
    "colab": {
      "provenance": []
    },
    "kernelspec": {
      "name": "python3",
      "display_name": "Python 3"
    },
    "language_info": {
      "name": "python"
    }
  },
  "cells": [
    {
      "cell_type": "markdown",
      "source": [
        "# **CFD**\n"
      ],
      "metadata": {
        "id": "eAasX2gKLXHN"
      }
    },
    {
      "cell_type": "markdown",
      "source": [
        "## ***Formule:***\n",
        "\n",
        "-  𝑂𝑟𝑑𝑖𝑛𝑒 𝑖𝑝𝑜𝑡𝑒𝑡𝑖𝑐𝑜 = 𝑄𝑢𝑎𝑛𝑡𝑖𝑡à × 𝑃𝑟𝑒𝑧𝑧𝑜 × 𝑀𝑜𝑙𝑡𝑖𝑝𝑙𝑖𝑐𝑎𝑡𝑜𝑟𝑒\n",
        "\n",
        "\"L'ordine ipotetico rappresenta il valore totale dell'investimento che stai effettuando nel CFD sull'indice X. Viene calcolato moltiplicando la quantità del CFD che stai acquistando per il prezzo attuale dell'indice X e per il moltiplicatore\"\n",
        "\n",
        "\n",
        "-  𝑀𝑎𝑟𝑔𝑖𝑛𝑒 𝑟𝑖𝑐ℎ𝑖𝑒𝑠𝑡𝑜 = 𝑂𝑟𝑑𝑖𝑛𝑒 𝑖𝑝𝑜𝑡𝑒𝑡𝑖𝑐𝑜 × 𝑀𝑎𝑟𝑔𝑖𝑛𝑒 %\n",
        "\n",
        "\"Il margine richiesto è la quantità di denaro che devi depositare per aprire la posizione nel CFD sull'indice X. Il broker richiede questo margine come garanzia per coprire eventuali perdite\"\n",
        "\n",
        "-  𝑀𝑜𝑣𝑖𝑚𝑒𝑛𝑡𝑖 𝑑𝑖 𝑝𝑟𝑒𝑧𝑧𝑜 = 𝑀𝑜𝑙𝑡𝑖𝑝𝑙𝑖𝑐𝑎𝑡𝑜𝑟𝑒 × 𝑇𝑖𝑐𝑘\n",
        "\n",
        "\"I movimenti di prezzo si riferiscono alle variazioni nel valore dell'indice X. In questo caso, ogni \"tick\" (o incremento di 0,1) nell'indice X corrisponde a una variazione di 0,1 X Moltiplicatore nel valore del CFD, il tick rappresenta l'incremento minimo nel prezzo dell'indice X che può influenzare il valore del tuo investimento nel CFD.\"\n",
        "\n",
        "---\n",
        "\n"
      ],
      "metadata": {
        "id": "J7SdsGoW1BWY"
      }
    },
    {
      "cell_type": "markdown",
      "source": [
        "### ***Importo investito in base al prezzo t***"
      ],
      "metadata": {
        "id": "U5vBSSvdNus-"
      }
    },
    {
      "cell_type": "code",
      "execution_count": null,
      "metadata": {
        "colab": {
          "base_uri": "https://localhost:8080/"
        },
        "id": "-VhOZ7FRKBNg",
        "outputId": "49cdedc8-3bda-4c85-c44e-8d5af48de2ac"
      },
      "outputs": [
        {
          "output_type": "stream",
          "name": "stdout",
          "text": [
            "Inserisci la quantità: 1\n",
            "Inserisci il prezzo: 16900\n",
            "Inserisci il moltiplicatore: 25\n",
            "Inserisci il margine in percentuale: 5\n",
            "Ordine ipotetico: 422500.0\n",
            "Margine richiesto: 21125.0\n"
          ]
        }
      ],
      "source": [
        "# Input dei dati\n",
        "quantita = float(input(\"Inserisci la quantità: \"))\n",
        "prezzo = float(input(\"Inserisci il prezzo: \"))\n",
        "moltiplicatore = float(input(\"Inserisci il moltiplicatore: \"))\n",
        "margine_percentuale = float(input(\"Inserisci il margine in percentuale: \"))\n",
        "\n",
        "# Calcolo dell'Ordine Ipotetico\n",
        "ordine_ipotetico = quantita * prezzo * moltiplicatore\n",
        "\n",
        "# Calcolo del Margine Richiesto\n",
        "margine_richiesto = ordine_ipotetico * (margine_percentuale / 100)\n",
        "\n",
        "# Stampare i risultati\n",
        "print(\"Ordine ipotetico:\", ordine_ipotetico)\n",
        "print(\"Margine richiesto:\", margine_richiesto)\n"
      ]
    },
    {
      "cell_type": "markdown",
      "source": [
        "### ***Importo investito in base al prezzo t+1***"
      ],
      "metadata": {
        "id": "seqnHXKYN0ot"
      }
    },
    {
      "cell_type": "code",
      "source": [
        "# Input del prezzo futuro\n",
        "prezzo_futuro = float(input(\"Inserisci il prezzo futuro: \"))\n",
        "\n",
        "# Calcolo del guadagno o perdita rispetto al prezzo futuro\n",
        "guadagno_perdita = (quantita * prezzo_futuro * moltiplicatore) - ordine_ipotetico\n",
        "\n",
        "# Output del guadagno o perdita rispetto al prezzo futuro\n",
        "if guadagno_perdita > 0:\n",
        "    print(\"Guadagno rispetto al prezzo futuro:\", guadagno_perdita)\n",
        "elif guadagno_perdita < 0:\n",
        "    print(\"Perdita rispetto al prezzo futuro:\", abs(guadagno_perdita))\n",
        "else:\n",
        "    print(\"Nessun guadagno o perdita rispetto al prezzo futuro.\")"
      ],
      "metadata": {
        "colab": {
          "base_uri": "https://localhost:8080/"
        },
        "id": "ejFRLHIuMLyk",
        "outputId": "1dee85a9-a92b-4c8c-fb2c-87b06960d83a"
      },
      "execution_count": null,
      "outputs": [
        {
          "output_type": "stream",
          "name": "stdout",
          "text": [
            "Inserisci il prezzo futuro: 17000\n",
            "Guadagno rispetto al prezzo futuro: 2500.0\n"
          ]
        }
      ]
    },
    {
      "cell_type": "markdown",
      "source": [
        "### ***Vendita allo scoperto***\n"
      ],
      "metadata": {
        "id": "KLpD7sN1BgOh"
      }
    },
    {
      "cell_type": "code",
      "source": [
        "# Input dei dati\n",
        "quantita = float(input(\"Inserisci la quantità: \"))\n",
        "prezzo = float(input(\"Inserisci il prezzo: \"))\n",
        "moltiplicatore = float(input(\"Inserisci il moltiplicatore: \"))\n",
        "margine_percentuale = float(input(\"Inserisci il margine in percentuale: \"))\n",
        "\n",
        "# Calcolo dell'Ordine Ipotetico\n",
        "ordine_ipotetico = quantita * prezzo * moltiplicatore\n",
        "\n",
        "# Calcolo del Margine Richiesto\n",
        "margine_richiesto = ordine_ipotetico * (margine_percentuale / 100)\n",
        "\n",
        "# Stampare i risultati\n",
        "print(\"Ordine ipotetico:\", ordine_ipotetico)\n",
        "print(\"Margine richiesto:\", margine_richiesto)\n",
        "\n",
        "# Input del prezzo futuro\n",
        "prezzo_futuro = float(input(\"Inserisci il prezzo futuro: \"))\n",
        "\n",
        "# Calcolo del guadagno o perdita rispetto al prezzo futuro\n",
        "guadagno_perdita = ordine_ipotetico - (quantita * prezzo_futuro * moltiplicatore)\n",
        "\n",
        "# Output del guadagno o perdita rispetto al prezzo futuro\n",
        "if guadagno_perdita > 0:\n",
        "    print(\"Guadagno rispetto al prezzo futuro:\", guadagno_perdita)\n",
        "elif guadagno_perdita < 0:\n",
        "    print(\"Perdita rispetto al prezzo futuro:\", abs(guadagno_perdita))\n",
        "else:\n",
        "    print(\"Nessun guadagno o perdita rispetto al prezzo futuro.\")"
      ],
      "metadata": {
        "colab": {
          "base_uri": "https://localhost:8080/"
        },
        "id": "ecz44zrsBisI",
        "outputId": "39f30210-8181-4f40-8a7e-ba15e1298ba3"
      },
      "execution_count": null,
      "outputs": [
        {
          "output_type": "stream",
          "name": "stdout",
          "text": [
            "Inserisci la quantità: 1\n",
            "Inserisci il prezzo: 16900\n",
            "Inserisci il moltiplicatore: 25\n",
            "Inserisci il margine in percentuale: 5\n",
            "Ordine ipotetico: 422500.0\n",
            "Margine richiesto: 21125.0\n",
            "Inserisci il prezzo futuro: 17000\n",
            "Perdita rispetto al prezzo futuro: 2500.0\n"
          ]
        }
      ]
    }
  ]
}