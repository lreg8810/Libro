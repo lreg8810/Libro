{
 "cells": [
  {
   "cell_type": "markdown",
   "metadata": {},
   "source": [
    "# Strategia di trading"
   ]
  },
  {
   "cell_type": "code",
   "execution_count": 2,
   "metadata": {
    "colab": {
     "base_uri": "https://localhost:8080/"
    },
    "id": "SA5Rm7dxr-x0",
    "outputId": "325f2253-31c7-47e4-c375-d2ba4983bf29",
    "tags": []
   },
   "outputs": [
    {
     "name": "stdout",
     "output_type": "stream",
     "text": [
      "[*********************100%%**********************]  1 of 1 completed\n",
      "[*********************100%%**********************]  1 of 1 completed\n",
      "3559 3559\n"
     ]
    }
   ],
   "source": [
    "import numpy as np\n",
    "import yfinance as yf\n",
    "import matplotlib.pyplot as plt\n",
    "import math\n",
    "\n",
    "\n",
    "\n",
    "titolo1 = \"SWDA.MI\" #Simbolo Etf MSCI World\n",
    "titolo2 = \"PHAU.MI\" #Simbolo Etf su oro\n",
    "\n",
    "\n",
    "msci = yf.download(titolo1, start='2010-01-01', end='2024-01-01')['Adj Close'].dropna().values\n",
    "gold = yf.download(titolo2, start='2010-01-01', end='2024-01-01')['Adj Close'].dropna().values\n",
    "\n",
    "print(len(msci),len(gold))\n",
    "\n",
    "\n",
    "\n",
    "\n"
   ]
  },
  {
   "cell_type": "code",
   "execution_count": 3,
   "metadata": {
    "id": "SOgQrbYMIWpg",
    "tags": []
   },
   "outputs": [],
   "source": [
    "def suddividi_in_sottovettori(vettore):\n",
    "    risultato = []\n",
    "    sottovettore = []\n",
    "\n",
    "    for valore in vettore:\n",
    "        if not sottovettore or valore == sottovettore[-1] + 1:\n",
    "            sottovettore.append(valore)\n",
    "        else:\n",
    "            risultato.append(sottovettore)\n",
    "            sottovettore = [valore]\n",
    "\n",
    "    if sottovettore:\n",
    "        risultato.append(sottovettore)\n",
    "\n",
    "    return risultato"
   ]
  },
  {
   "cell_type": "code",
   "execution_count": 4,
   "metadata": {
    "id": "BzgBDZH_SRVL",
    "tags": []
   },
   "outputs": [],
   "source": [
    "def trova_valore_piu_vicino(x, y):\n",
    "    risultati = []\n",
    "\n",
    "    for valore_x in x:\n",
    "        valore_y_piu_vicino = min(filter(lambda v: v > valore_x, y), default=None)\n",
    "        risultati.append([valore_x, valore_y_piu_vicino])\n",
    "\n",
    "    return risultati"
   ]
  },
  {
   "cell_type": "code",
   "execution_count": 5,
   "metadata": {
    "colab": {
     "base_uri": "https://localhost:8080/"
    },
    "id": "KBW0PxWyuVTy",
    "outputId": "fd4a4d33-27bb-480a-d567-4dca73c38a8f",
    "tags": []
   },
   "outputs": [
    {
     "name": "stdout",
     "output_type": "stream",
     "text": [
      "[[127, 237], [411, 660], [1432, 1754], [1512, 1754], [1528, 1754], [1597, 1754], [1607, 1754], [1638, 1754], [1647, 1754], [2281, 2351], [2579, 2798], [2649, 2798], [2674, 2798], [2680, 2798], [2722, 2798], [2750, 2798], [3138, 3546], [3145, 3546], [3162, 3546], [3183, 3546], [3235, 3546], [3265, 3546], [3288, 3546], [3295, 3546], [3355, 3546]]\n"
     ]
    }
   ],
   "source": [
    "segnale = []\n",
    "for i in range(1,len(msci)):\n",
    "  if msci[i] < 0.9 * max(msci[max(i-365,0):i]):\n",
    "    segnale.append(i)\n",
    "\n",
    "x = []\n",
    "for i in range(len(segnale)):\n",
    "  if segnale[i] == segnale[i-1] + 1:\n",
    "    x.append(segnale[i])\n",
    "\n",
    "y = suddividi_in_sottovettori(x)\n",
    "\n",
    "sell = []\n",
    "for valore in y:\n",
    "  sell.append(min(valore))\n",
    "\n",
    "\n",
    "\n",
    "\n",
    "segnale1 = []\n",
    "for i in range(1,len(msci)):\n",
    "  if msci[i] >  1 * max(msci[max(i-365,0):i]):\n",
    "    segnale1.append(i)\n",
    "\n",
    "z = []\n",
    "for i in range(len(segnale1)):\n",
    "  if segnale1[i] == segnale1[i-1] + 1:\n",
    "    z.append(segnale1[i])\n",
    "\n",
    "w = suddividi_in_sottovettori(z)\n",
    "\n",
    "buy = []\n",
    "for valore in w:\n",
    "  buy.append(max(valore))\n",
    "\n",
    "sell_buy = trova_valore_piu_vicino(sell, buy)\n",
    "\n",
    "print(sell_buy) #Necessario per completare il codice sottostante\n",
    "\n",
    "\n",
    "\n",
    "\n",
    "\n",
    "\n",
    "\n"
   ]
  },
  {
   "cell_type": "code",
   "execution_count": 6,
   "metadata": {
    "id": "H_hlvRrVWyMI",
    "tags": []
   },
   "outputs": [],
   "source": [
    "a = [gold[i] / gold[i-1] for i in range(127)] #gold\n",
    "b = [msci[i] / msci[i-1] for i in range(127, 238)] #msci\n",
    "c = [gold[i] / gold[i-1] for i in range(238, 411)] #gold\n",
    "d = [msci[i] / msci[i-1] for i in range(411, 660)] #msci\n",
    "e = [gold[i] / gold[i-1] for i in range(661, 1647)] #gold\n",
    "f = [msci[i] / msci[i-1] for i in range(1647, 1755)] #msci\n",
    "g = [gold[i] / gold[i-1] for i in range(1755, 2281)] #gold\n",
    "h = [msci[i] / msci[i-1] for i in range(2281, 2352)] #msci\n",
    "i = [gold[i] / gold[i-1] for i in range(2352, 2750)] #gold\n",
    "j = [msci[i] / msci[i-1] for i in range(2750, 2799)] #msci\n",
    "k = [gold[i] / gold[i-1] for i in range(2799, 3391)] #gold\n",
    "l = [msci[i] / msci[i-1] for i in range(3391, 3547)] #msci\n",
    "m = [gold[i] / gold[i-1] for i in range(3547, 3559)] #gold\n"
   ]
  },
  {
   "cell_type": "code",
   "execution_count": 9,
   "metadata": {
    "id": "2jA4NEdCYiqh",
    "tags": []
   },
   "outputs": [],
   "source": [
    "p1 = a + b + c + d + e + f + g + h + i + j + k + l + m\n"
   ]
  },
  {
   "cell_type": "code",
   "execution_count": 13,
   "metadata": {
    "colab": {
     "base_uri": "https://localhost:8080/"
    },
    "id": "YseIrtzbdlmg",
    "outputId": "dfe2144a-3878-435f-a50d-5375160626e3",
    "tags": []
   },
   "outputs": [
    {
     "name": "stdout",
     "output_type": "stream",
     "text": [
      "3558\n"
     ]
    }
   ],
   "source": [
    "print(len(p1))"
   ]
  },
  {
   "cell_type": "code",
   "execution_count": 16,
   "metadata": {
    "colab": {
     "base_uri": "https://localhost:8080/"
    },
    "id": "iJo7ypNLbK2t",
    "outputId": "47b16bbb-fcb0-47cf-846b-497bffd832e7",
    "tags": []
   },
   "outputs": [
    {
     "name": "stdout",
     "output_type": "stream",
     "text": [
      "3558\n"
     ]
    }
   ],
   "source": [
    "p2 = []\n",
    "for i in range(1,len(msci)):\n",
    "  p2.append(msci[i]/msci[i-1])\n",
    "\n",
    "print(len(p2))"
   ]
  },
  {
   "cell_type": "code",
   "execution_count": 18,
   "metadata": {
    "id": "dXUoAxrkcARR",
    "tags": []
   },
   "outputs": [],
   "source": [
    "valore_portafoglio1 = [10000*0.5]\n",
    "for i in range(1,len(p1)):\n",
    "  valore_portafoglio1.append(valore_portafoglio1[i-1]*p1[i])\n",
    "\n",
    "valore_portafoglio2 = [10000*0.5]\n",
    "for i in range(1,len(p2)):\n",
    "  valore_portafoglio2.append(valore_portafoglio2[i-1]*p2[i])"
   ]
  },
  {
   "cell_type": "code",
   "execution_count": 20,
   "metadata": {
    "colab": {
     "base_uri": "https://localhost:8080/",
     "height": 466
    },
    "id": "1g0LniSEcN8g",
    "outputId": "e265bdaa-80cc-48f9-d56e-062438e507dc",
    "tags": []
   },
   "outputs": [
    {
     "data": {
      "text/plain": [
       "<matplotlib.legend.Legend at 0x1e66c471a90>"
      ]
     },
     "execution_count": 20,
     "metadata": {},
     "output_type": "execute_result"
    },
    {
     "data": {
      "image/png": "[encoded data removed]",
      "text/plain": [
       "<Figure size 640x480 with 1 Axes>"
      ]
     },
     "metadata": {},
     "output_type": "display_data"
    }
   ],
   "source": [
    "z = [i for i in range(3558)]\n",
    "plt.plot(z,valore_portafoglio1,color='blue', label='Serie storica con strategia di trading')\n",
    "plt.plot(z,valore_portafoglio2,color='red', label='Serie storica con posizione buy and hold')\n",
    "plt.xlabel('Tempo (in gg)')\n",
    "plt.ylabel('Valore del portafoglio')\n",
    "plt.legend()"
   ]
  },
  {
   "cell_type": "code",
   "execution_count": null,
   "metadata": {},
   "outputs": [],
   "source": []
  },
  {
   "cell_type": "code",
   "execution_count": null,
   "metadata": {},
   "outputs": [],
   "source": []
  }
 ],
 "metadata": {
  "colab": {
   "provenance": []
  },
  "kernelspec": {
   "display_name": "Python 3 (ipykernel)",
   "language": "python",
   "name": "python3"
  },
  "language_info": {
   "codemirror_mode": {
    "name": "ipython",
    "version": 3
   },
   "file_extension": ".py",
   "mimetype": "text/x-python",
   "name": "python",
   "nbconvert_exporter": "python",
   "pygments_lexer": "ipython3",
   "version": "3.11.9"
  }
 },
 "nbformat": 4,
 "nbformat_minor": 4
}
