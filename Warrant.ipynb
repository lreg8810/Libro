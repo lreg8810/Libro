{
  "nbformat": 4,
  "nbformat_minor": 0,
  "metadata": {
    "colab": {
      "provenance": []
    },
    "kernelspec": {
      "name": "python3",
      "display_name": "Python 3"
    },
    "language_info": {
      "name": "python"
    }
  },
  "cells": [
    {
      "cell_type": "markdown",
      "source": [
        "#  **Warrant**"
      ],
      "metadata": {
        "id": "mquKFB7yLfYN"
      }
    },
    {
      "cell_type": "markdown",
      "source": [
        "## ***Formule:***\n",
        "\n",
        "-  𝑃𝑟𝑒𝑚𝑖𝑜 = 𝑄𝑢𝑎𝑛𝑡𝑖𝑡à 𝑑𝑖 𝑐𝑤 𝑎𝑐𝑞𝑢𝑖𝑠𝑡𝑎𝑡𝑖 × 𝑃𝑟𝑒𝑧𝑧𝑜 𝑑𝑒𝑙 𝑐𝑤 𝑎𝑙 𝑚𝑒𝑟𝑐𝑎𝑡𝑜   \n",
        "\n",
        "\"E' il prezzo che io pago per poter acquistare i cw sul mercato.\"\n",
        "\n",
        "\n",
        "\n",
        "-  𝑄𝑢𝑎𝑛𝑡𝑖𝑡à 𝑑𝑖 𝑐𝑤 𝑛𝑒𝑐𝑒𝑠𝑠𝑎𝑟𝑖  = 1/𝑀𝑢𝑙𝑡𝑖𝑝𝑙𝑜 𝑑𝑒𝑙 𝑐𝑤  \n",
        "\n",
        "\"Overro se il il multiplo è uno allora per acquistare una azione è richiesto un cw se fosse stato di 0,5 allora sarebbero necessari 2 cw\"\n",
        "\n",
        "\n",
        "-  𝑀𝑢𝑙𝑡𝑖𝑝𝑙𝑜 𝑑𝑒𝑙 𝑐𝑤 𝑖𝑛 𝑝𝑜𝑟𝑡𝑎𝑓𝑜𝑔𝑙𝑖𝑜 =𝐿𝑜𝑡𝑡𝑖 𝑎𝑐𝑞𝑢𝑖𝑠𝑡𝑎𝑡𝑖/\n",
        "𝑄𝑢𝑎𝑛𝑡𝑖𝑡à 𝑑𝑖 𝑐𝑤 𝑛𝑒𝑐𝑒𝑠𝑠𝑎𝑟𝑖\n",
        "\n",
        "\"Se ho acquistato 1000 lotti di cw con un multiplo di 0,5 allora la quantità di cw necessari per acquistare una azione sono 2 e dunque con 1000 lotti io posso acquistare 500 azioni\"\n"
      ],
      "metadata": {
        "id": "R7jSDWFrutLT"
      }
    },
    {
      "cell_type": "markdown",
      "source": [
        "\n",
        "\n",
        "#### ***Call CW lato acquirente***\n"
      ],
      "metadata": {
        "id": "DT14TzsnZVoR"
      }
    },
    {
      "cell_type": "code",
      "source": [
        "# Input dei dati del KID\n",
        "lotti = int(input(\"Inserisci il numero di lotti di CW che vuoi acquistare: \"))\n",
        "strike = float(input(\"Inserisci lo strike di esercizio del CW: \"))\n",
        "multiplo = float(input(\"Inserisci il multiplo: \"))\n",
        "premio = float(input(\"Inserisci il premio: \"))\n",
        "scadenza = input(\"Inserisci la data di scadenza (formato: gg/mm/aa): \")\n",
        "tipologia = input(\"Inserisci la tipologia del CW: \")\n",
        "\n",
        "\n",
        "# Calcoli relativi all'operazione\n",
        "costo_operazione = round(premio * lotti, 3)\n",
        "valore_nominale = round(multiplo * lotti * strike, 3) #Sarebbe il valore che il warrant muove nel mercato\n",
        "\n",
        "# Input del prezzo delle azioni alla scadenza\n",
        "prezzo_azione_scadenza = round(float(input(\"Inserisci il prezzo delle azioni alla scadenza: \")), 3)\n",
        "\n",
        "# Calcolo del guadagno o perdita\n",
        "if prezzo_azione_scadenza > strike:\n",
        "    guadagno = round((prezzo_azione_scadenza - strike) * multiplo * lotti - costo_operazione, 3)\n",
        "else:\n",
        "    guadagno = round(- costo_operazione, 3)\n",
        "\n",
        "\n",
        "# Output della schermata di conferma ordine\n",
        "print(\"Schermata di conferma ordine:\")\n",
        "print(f\"Lotti di CW: {lotti}\")\n",
        "print(f\"Strike di esercizio del CW: {strike:.3f}\")\n",
        "print(f\"Multiplo: {multiplo:.3f}\")\n",
        "print(f\"Premio: {premio:.3f} euro\")\n",
        "print(f\"Scadenza: {scadenza}\")\n",
        "print(f\"Tipologia: {tipologia}\")\n",
        "print(f\"Costo operazione: {costo_operazione:.3f} euro\")\n",
        "print(f\"Valore nominale dello strumento finanziario che puoi esercitare: {valore_nominale:.3f} euro\")\n",
        "print(f\"Prezzo dello strumento finanziario alla scadenza: {prezzo_azione_scadenza:.3f} euro\")\n",
        "\n",
        "if guadagno >= 0:\n",
        "    print(f\"Guadagno se lo strumento finanziario ha il prezzo specificato alla scadenza: {guadagno:.3f} euro\")\n",
        "else:\n",
        "    print(f\"Perdita se lo strumento finanziario ha il prezzo specificato alla scadenza: {abs(guadagno):.3f} euro\")\n",
        "\n"
      ],
      "metadata": {
        "colab": {
          "base_uri": "https://localhost:8080/"
        },
        "id": "xN6lFqBtYOZ8",
        "outputId": "3f85a5b6-d022-4906-8f34-693a43e0ba43"
      },
      "execution_count": null,
      "outputs": [
        {
          "output_type": "stream",
          "name": "stdout",
          "text": [
            "Inserisci il numero di lotti di CW che vuoi acquistare: 1000\n",
            "Inserisci lo strike di esercizio del CW: 2.1\n",
            "Inserisci il multiplo: 0.4\n",
            "Inserisci il premio: 0.0295\n",
            "Inserisci la data di scadenza (formato: gg/mm/aa): \n",
            "Inserisci la tipologia del CW: \n",
            "Inserisci il prezzo delle azioni alla scadenza: 2\n",
            "Schermata di conferma ordine:\n",
            "Lotti di CW: 1000\n",
            "Strike di esercizio del CW: 2.100\n",
            "Multiplo: 0.400\n",
            "Premio: 0.029 euro\n",
            "Scadenza: \n",
            "Tipologia: \n",
            "Costo operazione: 29.500 euro\n",
            "Valore nominale delle azioni che puoi esercitare: 840.000 euro\n",
            "Prezzo delle azioni alla scadenza: 2.000 euro\n",
            "Perdita se le azioni vengono vendute al prezzo specificato alla scadenza: 29.500 euro\n"
          ]
        }
      ]
    },
    {
      "cell_type": "markdown",
      "source": [
        "#### ***Call CW lato venditore***"
      ],
      "metadata": {
        "id": "qo1UHTUtdAXr"
      }
    },
    {
      "cell_type": "code",
      "source": [
        "# Input dei dati del KID\n",
        "lotti = int(input(\"Inserisci il numero di lotti di CW che vuoi acquistare: \"))\n",
        "strike = float(input(\"Inserisci lo strike di esercizio del CW: \"))\n",
        "multiplo = float(input(\"Inserisci il multiplo: \"))\n",
        "premio = float(input(\"Inserisci il premio: \"))\n",
        "scadenza = input(\"Inserisci la data di scadenza (formato: gg/mm/aa): \")\n",
        "tipologia = input(\"Inserisci la tipologia del CW: \")\n",
        "\n",
        "# Calcoli relativi all'operazione\n",
        "costo_operazione = round(premio * lotti, 3)\n",
        "valore_nominale = round(multiplo * lotti * strike, 3)\n",
        "\n",
        "# Input del prezzo delle azioni alla scadenza\n",
        "prezzo_azione_scadenza = round(float(input(\"Inserisci il prezzo delle azioni alla scadenza: \")), 3)\n",
        "\n",
        "# Calcolo del guadagno o perdita\n",
        "if prezzo_azione_scadenza > strike:\n",
        "    guadagno = round(- (prezzo_azione_scadenza - strike) * multiplo * lotti + costo_operazione, 3)\n",
        "else:\n",
        "    guadagno = round(costo_operazione, 3)\n",
        "\n",
        "# Output della schermata di conferma ordine\n",
        "print(\"Schermata di conferma ordine:\")\n",
        "print(f\"Lotti di CW: {lotti}\")\n",
        "print(f\"Strike di esercizio del CW: {strike:.3f}\")\n",
        "print(f\"Multiplo: {multiplo:.3f}\")\n",
        "print(f\"Premio: {premio:.3f} euro\")\n",
        "print(f\"Scadenza: {scadenza}\")\n",
        "print(f\"Tipologia: {tipologia}\")\n",
        "print(f\"Guadagno dalla vendita del CW: {costo_operazione:.3f} euro\")\n",
        "print(f\"Valore nominale dello strumento finanziario che l'acquirente puù esercitare: {valore_nominale:.3f} euro\")\n",
        "print(f\"Prezzo dello strumento finanziario alla scadenza: {prezzo_azione_scadenza:.3f} euro\")\n",
        "\n",
        "if guadagno >= 0:\n",
        "    print(f\"Guadagno se lo strumento finanziario ha il prezzo specificato alla scadenza: {guadagno:.3f} euro\")\n",
        "else:\n",
        "    print(f\"Perdita se lo strumento finanziario ha il prezzo specificato alla scadenza: {abs(guadagno):.3f} euro\")\n"
      ],
      "metadata": {
        "colab": {
          "base_uri": "https://localhost:8080/"
        },
        "id": "9Vfw9o9VbjZV",
        "outputId": "902241d8-8501-4e69-badf-20e4e1554cb2"
      },
      "execution_count": null,
      "outputs": [
        {
          "output_type": "stream",
          "name": "stdout",
          "text": [
            "Inserisci il numero di lotti di CW che vuoi acquistare: 1000\n",
            "Inserisci lo strike di esercizio del CW: 2.1\n",
            "Inserisci il multiplo: 0.4\n",
            "Inserisci il premio: 0.0295\n",
            "Inserisci la data di scadenza (formato: gg/mm/aa): \n",
            "Inserisci la tipologia del CW: \n",
            "Inserisci il prezzo delle azioni alla scadenza: 2.5\n",
            "Schermata di conferma ordine:\n",
            "Lotti di CW: 1000\n",
            "Strike di esercizio del CW: 2.100\n",
            "Multiplo: 0.400\n",
            "Premio: 0.029 euro\n",
            "Scadenza: \n",
            "Tipologia: \n",
            "Guadagno dalla vendita del CW: 29.500 euro\n",
            "Valore nominale dello strumento finanziario che l'acquirente puù esercitare: 840.000 euro\n",
            "Prezzo dello strumento finanziario alla scadenza: 2.500 euro\n",
            "Perdita se lo strumento finanziario ha il prezzo specificato alla scadenza: 130.500 euro\n"
          ]
        }
      ]
    },
    {
      "cell_type": "markdown",
      "source": [
        "### ***Put CW lato acquirente***\n"
      ],
      "metadata": {
        "id": "9JWUBUDPOlwl"
      }
    },
    {
      "cell_type": "code",
      "source": [
        "# Input dei dati del KID\n",
        "lotti = int(input(\"Inserisci il numero di lotti di CW che vuoi acquistare: \"))\n",
        "strike = float(input(\"Inserisci lo strike di esercizio del CW: \"))\n",
        "multiplo = float(input(\"Inserisci il multiplo: \"))\n",
        "premio = float(input(\"Inserisci il premio: \"))\n",
        "scadenza = input(\"Inserisci la data di scadenza (formato: gg/mm/aa): \")\n",
        "tipologia = input(\"Inserisci la tipologia del CW: \")\n",
        "\n",
        "# Calcoli relativi all'operazione\n",
        "costo_operazione = round(premio * lotti, 3)\n",
        "valore_nominale = round(multiplo * lotti * strike, 3)\n",
        "\n",
        "# Input del prezzo delle azioni alla scadenza\n",
        "prezzo_azione_scadenza = round(float(input(\"Inserisci il prezzo delle azioni alla scadenza: \")), 3)\n",
        "\n",
        "# Calcolo del guadagno o perdita\n",
        "if prezzo_azione_scadenza < strike:\n",
        "    guadagno = round((strike - prezzo_azione_scadenza) * multiplo * lotti - costo_operazione, 3)\n",
        "else:\n",
        "    guadagno = round(- costo_operazione, 3)\n",
        "\n",
        "# Output della schermata di conferma ordine\n",
        "print(\"Schermata di conferma ordine:\")\n",
        "print(f\"Lotti di CW: {lotti}\")\n",
        "print(f\"Strike di esercizio del CW: {strike:.3f}\")\n",
        "print(f\"Multiplo: {multiplo:.3f}\")\n",
        "print(f\"Premio: {premio:.3f} euro\")\n",
        "print(f\"Scadenza: {scadenza}\")\n",
        "print(f\"Tipologia: {tipologia}\")\n",
        "print(f\"Costo operazione: {costo_operazione:.3f} euro\")\n",
        "print(f\"Valore nominale dello strumento finanziario che puoi esercitare: {valore_nominale:.3f} euro\")\n",
        "print(f\"Prezzo dello strumento finanziario alla scadenza: {prezzo_azione_scadenza:.3f} euro\")\n",
        "\n",
        "if guadagno >= 0:\n",
        "    print(f\"Guadagno se lo strumento finanziario ha il prezzo specificato alla scadenza: {guadagno:.3f} euro\")\n",
        "else:\n",
        "    print(f\"Perdita se lo strumento finanziario ha il prezzo specificato alla scadenza: {abs(guadagno):.3f} euro\")\n"
      ],
      "metadata": {
        "colab": {
          "base_uri": "https://localhost:8080/"
        },
        "id": "KvpO8jE1OqEn",
        "outputId": "2a6a842b-e66d-476b-9d7d-327df37d2710"
      },
      "execution_count": null,
      "outputs": [
        {
          "output_type": "stream",
          "name": "stdout",
          "text": [
            "Inserisci il numero di lotti di CW che vuoi acquistare: 1000\n",
            "Inserisci lo strike di esercizio del CW: 2.1\n",
            "Inserisci il multiplo: 2\n",
            "Inserisci il premio: 0.0295\n",
            "Inserisci la data di scadenza (formato: gg/mm/aa): \n",
            "Inserisci la tipologia del CW: \n",
            "Inserisci il prezzo delle azioni alla scadenza: 2\n",
            "Schermata di conferma ordine:\n",
            "Lotti di CW: 1000\n",
            "Strike di esercizio del CW: 2.100\n",
            "Multiplo: 2.000\n",
            "Premio: 0.029 euro\n",
            "Scadenza: \n",
            "Tipologia: \n",
            "Costo operazione: 29.500 euro\n",
            "Valore nominale dello strumento finanziario che puoi esercitare: 4200.000 euro\n",
            "Prezzo dello strumento finanziario alla scadenza: 2.000 euro\n",
            "Guadagno se lo strumento finanziario ha il prezzo specificato alla scadenza: 170.500 euro\n"
          ]
        }
      ]
    },
    {
      "cell_type": "markdown",
      "source": [
        "### ***Put CW lato venditore***"
      ],
      "metadata": {
        "id": "t-l31XNlPtyA"
      }
    },
    {
      "cell_type": "code",
      "source": [
        "# Input dei dati del KID\n",
        "lotti = int(input(\"Inserisci il numero di lotti di CW che vuoi vendere: \"))\n",
        "strike = float(input(\"Inserisci lo strike di esercizio del CW: \"))\n",
        "multiplo = float(input(\"Inserisci il multiplo: \"))\n",
        "premio = float(input(\"Inserisci il premio: \"))\n",
        "scadenza = input(\"Inserisci la data di scadenza (formato: gg/mm/aa): \")\n",
        "tipologia = input(\"Inserisci la tipologia del CW: \")\n",
        "\n",
        "# Calcoli relativi all'operazione\n",
        "provento_operazione = round(premio * lotti, 3)\n",
        "valore_nominale = round(multiplo * lotti * strike, 3)\n",
        "\n",
        "# Input del prezzo delle azioni alla scadenza\n",
        "prezzo_azione_scadenza = round(float(input(\"Inserisci il prezzo delle azioni alla scadenza: \")), 3)\n",
        "\n",
        "# Calcolo del guadagno o perdita\n",
        "if prezzo_azione_scadenza < strike:\n",
        "    guadagno = round(- (strike - prezzo_azione_scadenza) * multiplo * lotti + provento_operazione, 3)\n",
        "else:\n",
        "    guadagno = round(provento_operazione, 3)\n",
        "\n",
        "# Output della schermata di conferma ordine\n",
        "print(\"Schermata di conferma ordine:\")\n",
        "print(f\"Lotti di CW: {lotti}\")\n",
        "print(f\"Strike di esercizio del CW: {strike:.3f}\")\n",
        "print(f\"Multiplo: {multiplo:.3f}\")\n",
        "print(f\"Premio: {premio:.3f} euro\")\n",
        "print(f\"Scadenza: {scadenza}\")\n",
        "print(f\"Tipologia: {tipologia}\")\n",
        "print(f\"Provento operazione: {provento_operazione:.3f} euro\")\n",
        "print(f\"Valore nominale dello strumento finanziario che devi esercitare: {valore_nominale:.3f} euro\")\n",
        "print(f\"Prezzo dello strumento finanziario alla scadenza: {prezzo_azione_scadenza:.3f} euro\")\n",
        "\n",
        "if guadagno >= 0:\n",
        "    print(f\"Guadagno se lo strumento finanziario ha il prezzo specificato alla scadenza: {guadagno:.3f} euro\")\n",
        "else:\n",
        "    print(f\"Perdita se lo strumento finanziario ha il prezzo specificato alla scadenza: {abs(guadagno):.3f} euro\")\n",
        "\n"
      ],
      "metadata": {
        "colab": {
          "base_uri": "https://localhost:8080/"
        },
        "id": "IGleGexjPxlD",
        "outputId": "ceb1be0a-1ed2-48ee-d28a-1236acf0a06a"
      },
      "execution_count": null,
      "outputs": [
        {
          "output_type": "stream",
          "name": "stdout",
          "text": [
            "Inserisci il numero di lotti di CW che vuoi vendere: 1000\n",
            "Inserisci lo strike di esercizio del CW: 2.1\n",
            "Inserisci il multiplo: 2\n",
            "Inserisci il premio: 0.0295\n",
            "Inserisci la data di scadenza (formato: gg/mm/aa): \n",
            "Inserisci la tipologia del CW: \n",
            "Inserisci il prezzo delle azioni alla scadenza: 2\n",
            "Schermata di conferma ordine:\n",
            "Lotti di CW: 1000\n",
            "Strike di esercizio del CW: 2.100\n",
            "Multiplo: 2.000\n",
            "Premio: 0.029 euro\n",
            "Scadenza: \n",
            "Tipologia: \n",
            "Provento operazione: 29.500 euro\n",
            "Valore nominale dello strumento finanziario che devi esercitare: 4200.000 euro\n",
            "Prezzo dello strumento finanziario alla scadenza: 2.000 euro\n",
            "Perdita se lo strumento finanziario ha il prezzo specificato alla scadenza: 170.500 euro\n"
          ]
        }
      ]
    }
  ]
}