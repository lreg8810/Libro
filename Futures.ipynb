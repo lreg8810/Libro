{
  "nbformat": 4,
  "nbformat_minor": 0,
  "metadata": {
    "colab": {
      "provenance": []
    },
    "kernelspec": {
      "name": "python3",
      "display_name": "Python 3"
    },
    "language_info": {
      "name": "python"
    }
  },
  "cells": [
    {
      "cell_type": "markdown",
      "source": [
        "# **Futures**"
      ],
      "metadata": {
        "id": "C5r1-m5gUvzf"
      }
    },
    {
      "cell_type": "markdown",
      "source": [
        "## ***Formule:***\n",
        "\n",
        "-  *Valore per tick minimo* = 𝑀𝑜𝑙𝑡𝑖𝑝𝑙𝑖𝑐𝑎𝑡𝑜𝑟𝑒 × 𝑉𝑎𝑟𝑖𝑎𝑧𝑖𝑜𝑛𝑒 𝑚𝑖𝑛𝑖𝑚𝑎 𝑑𝑖 𝑝𝑟𝑒𝑧𝑧𝑜\n",
        "\n",
        "\"La variazione minima del prezzo, o \"tick size\", rappresenta la più piccola quantità di movimento del prezzo dell'indice che è consentita dal mercato,\n",
        "Il moltiplicatore indica di quanti punti l'indice deve muoversi affinché si verifichi un cambiamento nel valore del tuo investimento pari a una certa quantità di denaro\n",
        "Il valore del tick rappresenta l'incremento minimo nel prezzo dell'indice che corrisponde a un guadagno o una perdita specifica nel valore del tuo investimento\"\n",
        "\n",
        "-  𝑃𝑟𝑜𝑓𝑖𝑡𝑡𝑜 𝑜 𝑝𝑒𝑟𝑑𝑖𝑡𝑎 = *Valore per tick minimo* × 𝐴𝑢𝑚𝑒𝑛𝑡𝑜 𝑜 𝑑𝑖𝑚𝑢𝑛𝑧𝑖𝑜𝑛𝑒 𝑝𝑒𝑟 𝑜𝑔𝑛𝑖 𝑝𝑢𝑛𝑡𝑜 𝑑𝑒𝑙 𝑠𝑜𝑡𝑡𝑜𝑠𝑡𝑎𝑛𝑡𝑒\n",
        "\n",
        "\"Questo rappresenta il profitto o la perdita che realizzerai in base al movimento del prezzo dell'attività sottostante del futures. È calcolato moltiplicando il valore del tick per l'importo di variazione del prezzo dell'attività sottostante. Se il prezzo dell'attività sottostante aumenta, realizzerai un profitto, mentre se diminuisce, subirai una perdita\"\n",
        "\n",
        "\n",
        "-  𝑆𝑡𝑖𝑚𝑎 𝑜𝑟𝑑𝑖𝑛𝑒 = 𝑉𝑎𝑙𝑜𝑟𝑒 𝑠𝑜𝑡𝑡𝑜𝑠𝑡𝑎𝑛𝑡𝑒 × 𝑀𝑜𝑙𝑡𝑖𝑝𝑙𝑖𝑐𝑎𝑡𝑜𝑟𝑒\n",
        "\n",
        "\"Si moltiplica il valore attuale dell'asset sottostante per il numero di contratti o unità del futures che si desidera negoziare, ottenendo così il valore totale dell'investimento il tutto moltiplicato per il moltiplicatore\"\n",
        "\n",
        "\n",
        "-  𝑀𝑎𝑟𝑔𝑖𝑛𝑒 𝑟𝑖𝑐ℎ𝑖𝑒𝑠𝑡𝑜 = 𝑆𝑡𝑖𝑚𝑎 𝑜𝑟𝑑𝑖𝑛𝑒 × 𝑀𝑎𝑟𝑔𝑖𝑛𝑒 𝑖𝑛 %\n",
        "\n",
        "\"Questa formula è utilizzata per calcolare il margine di garanzia richiesto dal broker per aprire una posizione nel futures.\n",
        "Si moltiplica la stima dell'ordine per la percentuale di margine richiesta dal broker, espressa come un valore percentuale\""
      ],
      "metadata": {
        "id": "OY6x4CFhg_tt"
      }
    },
    {
      "cell_type": "markdown",
      "source": [
        "## ***Acquisto futures***"
      ],
      "metadata": {
        "id": "6ks4LBGui7RJ"
      }
    },
    {
      "cell_type": "markdown",
      "source": [
        "### ***Futures Long***\n"
      ],
      "metadata": {
        "id": "E3IMF0XLioG1"
      }
    },
    {
      "cell_type": "code",
      "source": [
        "# Input dei dati\n",
        "prezzo = float(input(\"Inserisci il prezzo del contratto: \"))\n",
        "moltiplicatore = float(input(\"Inserisci il valore del moltiplicatore (Euro per punto): \"))\n",
        "margine_percentuale = float(input(\"Inserisci il margine percentuale (in %): \"))\n",
        "quantita = float(input(\"Inserisci la quantità del contratto: \"))\n",
        "\n",
        "# Calcoli\n",
        "valore_tick = moltiplicatore * prezzo\n",
        "profitto_o_perdita = valore_tick * (margine_percentuale / 100)\n",
        "valore_contratto = valore_tick * quantita\n",
        "margine_richiesto = valore_contratto * (margine_percentuale / 100)\n",
        "\n",
        "# Stampare i risultati\n",
        "print(\"Valore tick: {:.2f} Euro\".format(valore_tick))\n",
        "print(\"Profitto o perdita per ogni punto: {:.2f} Euro\".format(profitto_o_perdita))\n",
        "print(\"Valore del contratto: {:.2f} Euro\".format(valore_contratto))\n",
        "print(\"Margine richiesto: {:.2f} Euro\".format(margine_richiesto))"
      ],
      "metadata": {
        "colab": {
          "base_uri": "https://localhost:8080/"
        },
        "id": "WfpvWaRfUu-W",
        "outputId": "2fbe6bb4-36fb-4518-d865-a7e84ea85434"
      },
      "execution_count": null,
      "outputs": [
        {
          "output_type": "stream",
          "name": "stdout",
          "text": [
            "Inserisci il prezzo del contratto: 32910\n",
            "Inserisci il valore del moltiplicatore (Euro per punto): 0.2\n",
            "Inserisci il margine percentuale (in %): 12.5\n",
            "Inserisci la quantità del contratto: 1\n",
            "Valore tick: 6582.00 Euro\n",
            "Profitto o perdita per ogni punto: 822.75 Euro\n",
            "Valore del contratto: 6582.00 Euro\n",
            "Margine richiesto: 822.75 Euro\n"
          ]
        }
      ]
    },
    {
      "cell_type": "code",
      "source": [
        "# Input del prezzo di scadenza del contratto\n",
        "prezzo_di_scadenza = float(input(\"Inserisci il prezzo di scadenza del contratto: \"))\n",
        "\n",
        "# Calcolo del profitto o della perdita\n",
        "profitto_o_perdita = (prezzo_di_scadenza - prezzo) * moltiplicatore * quantita\n",
        "\n",
        "# Verifica e stampa il risultato\n",
        "if profitto_o_perdita > 0:\n",
        "    print(\"Il contratto ha generato un profitto di {:.2f} Euro.\".format(profitto_o_perdita))\n",
        "elif profitto_o_perdita < 0:\n",
        "    print(\"Il contratto ha generato una perdita di {:.2f} Euro.\".format(abs(profitto_o_perdita)))\n",
        "else:\n",
        "    print(\"Il contratto non ha generato né profitto né perdita.\")\n"
      ],
      "metadata": {
        "colab": {
          "base_uri": "https://localhost:8080/"
        },
        "id": "ABU4LCT_d_yy",
        "outputId": "074deddb-c4a5-4404-aca5-c08485c3631c"
      },
      "execution_count": null,
      "outputs": [
        {
          "output_type": "stream",
          "name": "stdout",
          "text": [
            "Inserisci il prezzo di scadenza del contratto: 30000\n",
            "Il contratto ha generato una perdita di 582.00 Euro.\n"
          ]
        }
      ]
    },
    {
      "cell_type": "markdown",
      "source": [
        "\n",
        "### ***Futures Short***"
      ],
      "metadata": {
        "id": "UcSJZPDviuPU"
      }
    },
    {
      "cell_type": "code",
      "source": [
        "# Input dei dati\n",
        "prezzo = float(input(\"Inserisci il prezzo del contratto: \"))\n",
        "moltiplicatore = float(input(\"Inserisci il valore del moltiplicatore (Euro per punto): \"))\n",
        "margine_percentuale = float(input(\"Inserisci il margine percentuale (in %): \"))\n",
        "quantita = float(input(\"Inserisci la quantità del contratto: \"))\n",
        "\n",
        "# Calcoli\n",
        "valore_tick = moltiplicatore * prezzo\n",
        "profitto_o_perdita = -valore_tick * (margine_percentuale / 100)\n",
        "valore_contratto = valore_tick * quantita\n",
        "margine_richiesto = valore_contratto * (margine_percentuale / 100)\n",
        "\n",
        "# Stampare i risultati\n",
        "print(\"Valore tick: {:.2f} Euro\".format(valore_tick))\n",
        "print(\"Profitto o perdita per ogni punto: {:.2f} Euro\".format(profitto_o_perdita))\n",
        "print(\"Valore del contratto: {:.2f} Euro\".format(valore_contratto))\n",
        "print(\"Margine richiesto: {:.2f} Euro\".format(margine_richiesto))\n",
        "\n",
        "# Input del prezzo di scadenza del contratto\n",
        "prezzo_di_scadenza = float(input(\"Inserisci il prezzo di scadenza del contratto: \"))\n",
        "\n",
        "# Calcolo del profitto o della perdita\n",
        "profitto_o_perdita = (prezzo - prezzo_di_scadenza) * moltiplicatore * quantita\n",
        "\n",
        "# Verifica e stampa il risultato\n",
        "if profitto_o_perdita > 0:\n",
        "    print(\"Il contratto ha generato un profitto di {:.2f} Euro.\".format(profitto_o_perdita))\n",
        "elif profitto_o_perdita < 0:\n",
        "    print(\"Il contratto ha generato una perdita di {:.2f} Euro.\".format(abs(profitto_o_perdita)))\n",
        "else:\n",
        "    print(\"Il contratto non ha generato né profitto né perdita.\")\n"
      ],
      "metadata": {
        "colab": {
          "base_uri": "https://localhost:8080/"
        },
        "id": "vHmVcJPPiZKK",
        "outputId": "097a13a2-5b06-42cb-eda9-3f29857a74c3"
      },
      "execution_count": null,
      "outputs": [
        {
          "output_type": "stream",
          "name": "stdout",
          "text": [
            "Inserisci il prezzo del contratto: 32910\n",
            "Inserisci il valore del moltiplicatore (Euro per punto): 0.2\n",
            "Inserisci il margine percentuale (in %): 12.5\n",
            "Inserisci la quantità del contratto: 1\n",
            "Valore tick: 6582.00 Euro\n",
            "Profitto o perdita per ogni punto: -822.75 Euro\n",
            "Valore del contratto: 6582.00 Euro\n",
            "Margine richiesto: 822.75 Euro\n",
            "Inserisci il prezzo di scadenza del contratto: 30000\n",
            "Il contratto ha generato un profitto di 582.00 Euro.\n"
          ]
        }
      ]
    }
  ]
}