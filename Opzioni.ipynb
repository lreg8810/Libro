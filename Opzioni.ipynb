{
  "nbformat": 4,
  "nbformat_minor": 0,
  "metadata": {
    "colab": {
      "provenance": []
    },
    "kernelspec": {
      "name": "python3",
      "display_name": "Python 3"
    },
    "language_info": {
      "name": "python"
    }
  },
  "cells": [
    {
      "cell_type": "markdown",
      "source": [
        "# **Opzioni**"
      ],
      "metadata": {
        "id": "6AVym8nAeexI"
      }
    },
    {
      "cell_type": "markdown",
      "source": [
        "### ***Formule:***\n",
        "\n",
        "***- Costo della operazione:*** Quantità x Multiplo x Prezzo\n",
        "\n",
        "-Quantità: Si riferisce alla quantità di un determinato bene o strumento finanziario che viene acquistato o venduto.\n",
        "\n",
        "-Multiplo: Questo è un fattore che rappresenta il numero di unità in cui viene scambiato il bene, il fattore di leva utilizzato nell'operazione o qualsiasi altro moltiplicatore che incide sul costo totale. Esempio sulle azioni un multiplo di 500 sta a significare che io con una opzione in realtà smuovo 500 azioni.\n",
        "\n",
        "-Prezzo: È il prezzo unitario del bene o dello strumento finanziario che si sta acquistando o vendendo.\n",
        "\n",
        "***- Acquisto/Perdita:*** (Strike-Prezzo di mercato) x Multiplo x Quantità - Costo della operazione\n",
        "\n",
        "-Strike: In genere si riferisce al prezzo prestabilito al quale il valore del sottostante inserito in un'opzione può essere acquistato o venduto.\n",
        "\n",
        "-Prezzo di mercato: Questo è il prezzo attuale al quale il bene o lo strumento finanziario viene effettivamente scambiato sul mercato.\n",
        "\n",
        "-Multiplo: Come nella prima formula, questo rappresenta un moltiplicatore che influenza il risultato finale.\n",
        "\n",
        "-Quantità: La quantità di bene o strumento finanziario oggetto dell'operazione."
      ],
      "metadata": {
        "id": "3fOHNcTzjmsB"
      }
    },
    {
      "cell_type": "markdown",
      "source": [
        "### ***Call lato acquirente***"
      ],
      "metadata": {
        "id": "OnaWFkTCjm3K"
      }
    },
    {
      "cell_type": "code",
      "execution_count": null,
      "metadata": {
        "colab": {
          "base_uri": "https://localhost:8080/"
        },
        "id": "78AD5F67DLo5",
        "outputId": "7b448bfb-0bd7-474f-e027-93c83eaa883c"
      },
      "outputs": [
        {
          "output_type": "stream",
          "name": "stdout",
          "text": [
            "Inserisci il numero di lotti di opzione che vuoi acquistare: 1\n",
            "Inserisci il prezzo di esercizio dell'opzione: 2\n",
            "Inserisci il multiplo: 1000\n",
            "Inserisci il prezzo dell'opzione sul mercato: 0.8\n",
            "Inserisci la data di scadenza (formato: gg/mm/aa): \n",
            "Inserisci il prezzo dell'azione alla scadenza: 4\n",
            "Schermata di conferma ordine:\n",
            "Lotti di opzione: 1.0\n",
            "Prezzo di esercizio dell'opzione: 2.000\n",
            "Multiplo: 1000.000\n",
            "Premio: 0.800 euro\n",
            "Scadenza: \n",
            "Costo operazione: 800.000 euro\n",
            "Prezzo dell'azione alla scadenza: 4.000 euro\n",
            "Guadagno se l'azione ha il prezzo specificato alla scadenza: 1200.000 euro\n"
          ]
        }
      ],
      "source": [
        "# Input dei dati dell'opzione\n",
        "lotti = float(input(\"Inserisci il numero di lotti di opzione che vuoi acquistare: \"))\n",
        "strike = float(input(\"Inserisci il prezzo di esercizio dell'opzione: \"))\n",
        "multiplo = float(input(\"Inserisci il multiplo: \"))\n",
        "premio = float(input(\"Inserisci il prezzo dell'opzione sul mercato: \"))\n",
        "scadenza = input(\"Inserisci la data di scadenza (formato: gg/mm/aa): \")\n",
        "\n",
        "# Calcoli relativi all'operazione\n",
        "costo_operazione = round(premio * lotti * multiplo, 3)\n",
        "importo_acquistabile_a_scadenza = round(multiplo * lotti * strike, 3)\n",
        "\n",
        "# Input del prezzo dell'azione alla scadenza\n",
        "prezzo_azione_scadenza = float(input(\"Inserisci il prezzo dell'azione alla scadenza: \"))\n",
        "\n",
        "# Calcolo del guadagno o perdita\n",
        "if prezzo_azione_scadenza > strike:\n",
        "    guadagno = round((prezzo_azione_scadenza - strike) * multiplo * lotti - costo_operazione, 3)\n",
        "else:\n",
        "    guadagno = round(-costo_operazione, 3)\n",
        "\n",
        "# Output della schermata di conferma ordine\n",
        "print(\"Schermata di conferma ordine:\")\n",
        "print(f\"Lotti di opzione: {lotti}\")\n",
        "print(f\"Prezzo di esercizio dell'opzione: {strike:.3f}\")\n",
        "print(f\"Multiplo: {multiplo:.3f}\")\n",
        "print(f\"Premio: {premio:.3f} euro\")\n",
        "print(f\"Scadenza: {scadenza}\")\n",
        "print(f\"Costo operazione: {costo_operazione:.3f} euro\")\n",
        "print(f\"Prezzo dell'azione alla scadenza: {prezzo_azione_scadenza:.3f} euro\")\n",
        "\n",
        "if guadagno >= 0:\n",
        "    print(f\"Guadagno se l'azione ha il prezzo specificato alla scadenza: {guadagno:.3f} euro\")\n",
        "else:\n",
        "    print(f\"Perdita se l'azione ha il prezzo specificato alla scadenza: {abs(guadagno):.3f} euro\")\n"
      ]
    },
    {
      "cell_type": "markdown",
      "source": [
        "### ***Call lato venditore***"
      ],
      "metadata": {
        "id": "kXzz8CmHj5iS"
      }
    },
    {
      "cell_type": "code",
      "source": [
        "# Input dei dati dell'opzione\n",
        "lotti = float(input(\"Inserisci il numero di lotti di opzione che vuoi vendere: \"))\n",
        "strike = float(input(\"Inserisci il prezzo di esercizio dell'opzione: \"))\n",
        "multiplo = float(input(\"Inserisci il multiplo: \"))\n",
        "premio = float(input(\"Inserisci il prezzo dell'opzione sul mercato: \"))\n",
        "scadenza = input(\"Inserisci la data di scadenza (formato: gg/mm/aa): \")\n",
        "\n",
        "# Calcoli relativi all'operazione\n",
        "costo_operazione = round(premio * lotti * multiplo, 3)\n",
        "importo_acquistabile_a_scadenza = round(multiplo * lotti * strike, 3)\n",
        "\n",
        "# Input del prezzo dell'azione alla scadenza\n",
        "prezzo_azione_scadenza = float(input(\"Inserisci il prezzo dell'azione alla scadenza: \"))\n",
        "\n",
        "# Calcolo del guadagno o perdita\n",
        "if prezzo_azione_scadenza > strike:\n",
        "    guadagno = round(-((prezzo_azione_scadenza - strike) * multiplo * lotti) + costo_operazione, 3)\n",
        "else:\n",
        "    guadagno = round(costo_operazione, 3)\n",
        "\n",
        "# Output della schermata di conferma ordine\n",
        "print(\"Schermata di conferma ordine:\")\n",
        "print(f\"Lotti di opzione: {lotti}\")\n",
        "print(f\"Prezzo di esercizio dell'opzione: {strike:.3f}\")\n",
        "print(f\"Multiplo: {multiplo:.3f}\")\n",
        "print(f\"Premio: {premio:.3f} euro\")\n",
        "print(f\"Scadenza: {scadenza}\")\n",
        "print(f\"Costo operazione: {costo_operazione:.3f} euro\")\n",
        "print(f\"Prezzo dell'azione alla scadenza: {prezzo_azione_scadenza:.3f} euro\")\n",
        "\n",
        "if guadagno >= 0:\n",
        "    print(f\"Guadagno se l'azione ha il prezzo specificato alla scadenza: {guadagno:.3f} euro\")\n",
        "else:\n",
        "    print(f\"Perdita se l'azione ha il prezzo specificato alla scadenza: {abs(guadagno):.3f} euro\")\n"
      ],
      "metadata": {
        "colab": {
          "base_uri": "https://localhost:8080/"
        },
        "id": "t9W1_Vnyj7hT",
        "outputId": "8c023bdb-1dec-4c46-8c24-0081c0a262cb"
      },
      "execution_count": null,
      "outputs": [
        {
          "output_type": "stream",
          "name": "stdout",
          "text": [
            "Inserisci il numero di lotti di opzione che vuoi vendere: 1\n",
            "Inserisci il prezzo di esercizio dell'opzione: 2\n",
            "Inserisci il multiplo: 1000\n",
            "Inserisci il prezzo dell'opzione sul mercato: 0.8\n",
            "Inserisci la data di scadenza (formato: gg/mm/aa): \n",
            "Inserisci il prezzo dell'azione alla scadenza: 4\n",
            "Schermata di conferma ordine:\n",
            "Lotti di opzione: 1.0\n",
            "Prezzo di esercizio dell'opzione: 2.000\n",
            "Multiplo: 1000.000\n",
            "Premio: 0.800 euro\n",
            "Scadenza: \n",
            "Costo operazione: 800.000 euro\n",
            "Prezzo dell'azione alla scadenza: 4.000 euro\n",
            "Perdita se l'azione ha il prezzo specificato alla scadenza: 1200.000 euro\n"
          ]
        }
      ]
    },
    {
      "cell_type": "markdown",
      "source": [
        "### ***Put lato acquirente***"
      ],
      "metadata": {
        "id": "iG7LnPPpkKO7"
      }
    },
    {
      "cell_type": "code",
      "source": [
        "# Input dei dati dell'opzione\n",
        "lotti = float(input(\"Inserisci il numero di lotti di opzione che vuoi acquistare: \"))\n",
        "strike = float(input(\"Inserisci il prezzo di esercizio dell'opzione: \"))\n",
        "multiplo = float(input(\"Inserisci il multiplo: \"))\n",
        "premio = float(input(\"Inserisci il prezzo dell'opzione sul mercato: \"))\n",
        "scadenza = input(\"Inserisci la data di scadenza (formato: gg/mm/aa): \")\n",
        "\n",
        "# Calcoli relativi all'operazione\n",
        "costo_operazione = round(premio * lotti * multiplo, 3)\n",
        "importo_acquistabile_a_scadenza = round(multiplo * lotti * strike, 3)\n",
        "\n",
        "# Input del prezzo dell'azione alla scadenza\n",
        "prezzo_azione_scadenza = float(input(\"Inserisci il prezzo dell'azione alla scadenza: \"))\n",
        "\n",
        "# Calcolo del guadagno o perdita\n",
        "if prezzo_azione_scadenza < strike:\n",
        "    guadagno = round((strike - prezzo_azione_scadenza) * multiplo * lotti - costo_operazione, 3)\n",
        "else:\n",
        "    guadagno = round(-costo_operazione, 3)\n",
        "\n",
        "# Output della schermata di conferma ordine\n",
        "print(\"Schermata di conferma ordine:\")\n",
        "print(f\"Lotti di opzione: {lotti}\")\n",
        "print(f\"Prezzo di esercizio dell'opzione: {strike:.3f}\")\n",
        "print(f\"Multiplo: {multiplo:.3f}\")\n",
        "print(f\"Premio: {premio:.3f} euro\")\n",
        "print(f\"Scadenza: {scadenza}\")\n",
        "print(f\"Costo operazione: {costo_operazione:.3f} euro\")\n",
        "print(f\"Prezzo dell'azione alla scadenza: {prezzo_azione_scadenza:.3f} euro\")\n",
        "\n",
        "if guadagno >= 0:\n",
        "    print(f\"Guadagno se l'azione ha il prezzo specificato alla scadenza: {guadagno:.3f} euro\")\n",
        "else:\n",
        "    print(f\"Perdita se l'azione ha il prezzo specificato alla scadenza: {abs(guadagno):.3f} euro\")\n"
      ],
      "metadata": {
        "colab": {
          "base_uri": "https://localhost:8080/"
        },
        "id": "ROqAJjErkMnj",
        "outputId": "a40d116b-8734-46cc-b457-113b4af93b75"
      },
      "execution_count": null,
      "outputs": [
        {
          "output_type": "stream",
          "name": "stdout",
          "text": [
            "Inserisci il numero di lotti di opzione che vuoi acquistare: 1\n",
            "Inserisci il prezzo di esercizio dell'opzione: 2.1\n",
            "Inserisci il multiplo: 500\n",
            "Inserisci il prezzo dell'opzione sul mercato: 0.695\n",
            "Inserisci la data di scadenza (formato: gg/mm/aa): \n",
            "Inserisci il prezzo dell'azione alla scadenza: 1\n",
            "Schermata di conferma ordine:\n",
            "Lotti di opzione: 1.0\n",
            "Prezzo di esercizio dell'opzione: 2.100\n",
            "Multiplo: 500.000\n",
            "Premio: 0.695 euro\n",
            "Scadenza: \n",
            "Costo operazione: 347.500 euro\n",
            "Prezzo dell'azione alla scadenza: 1.000 euro\n",
            "Guadagno se l'azione ha il prezzo specificato alla scadenza: 202.500 euro\n"
          ]
        }
      ]
    },
    {
      "cell_type": "markdown",
      "source": [
        "### ***Put lato venditore***"
      ],
      "metadata": {
        "id": "3f6VJhu0lVR9"
      }
    },
    {
      "cell_type": "code",
      "source": [
        "# Input dei dati dell'opzione\n",
        "lotti = float(input(\"Inserisci il numero di lotti di opzione che vuoi vendere: \"))\n",
        "strike = float(input(\"Inserisci il prezzo di esercizio dell'opzione: \"))\n",
        "multiplo = float(input(\"Inserisci il multiplo: \"))\n",
        "premio = float(input(\"Inserisci il prezzo dell'opzione sul mercato: \"))\n",
        "scadenza = input(\"Inserisci la data di scadenza (formato: gg/mm/aa): \")\n",
        "\n",
        "# Calcoli relativi all'operazione\n",
        "costo_operazione = round(premio * lotti * multiplo, 3)\n",
        "importo_acquistabile_a_scadenza = round(multiplo * lotti * strike, 3)\n",
        "\n",
        "# Input del prezzo dell'azione alla scadenza\n",
        "prezzo_azione_scadenza = float(input(\"Inserisci il prezzo dell'azione alla scadenza: \"))\n",
        "\n",
        "# Calcolo del guadagno o perdita\n",
        "if prezzo_azione_scadenza < strike:\n",
        "    guadagno = round(-((strike - prezzo_azione_scadenza) * multiplo * lotti) + costo_operazione, 3)\n",
        "else:\n",
        "    guadagno = round(costo_operazione, 3)\n",
        "\n",
        "# Output della schermata di conferma ordine\n",
        "print(\"Schermata di conferma ordine:\")\n",
        "print(f\"Lotti di opzione: {lotti}\")\n",
        "print(f\"Prezzo di esercizio dell'opzione: {strike:.3f}\")\n",
        "print(f\"Multiplo: {multiplo:.3f}\")\n",
        "print(f\"Premio: {premio:.3f} euro\")\n",
        "print(f\"Scadenza: {scadenza}\")\n",
        "print(f\"Costo operazione: {costo_operazione:.3f} euro\")\n",
        "print(f\"Prezzo dell'azione alla scadenza: {prezzo_azione_scadenza:.3f} euro\")\n",
        "\n",
        "if guadagno >= 0:\n",
        "    print(f\"Guadagno se l'azione ha il prezzo specificato alla scadenza: {guadagno:.3f} euro\")\n",
        "else:\n",
        "    print(f\"Perdita se l'azione ha il prezzo specificato alla scadenza: {abs(guadagno):.3f} euro\")\n"
      ],
      "metadata": {
        "colab": {
          "base_uri": "https://localhost:8080/"
        },
        "id": "GYA06tJnlXmW",
        "outputId": "3e46d37d-643a-4126-f20b-24b4428b78b5"
      },
      "execution_count": null,
      "outputs": [
        {
          "output_type": "stream",
          "name": "stdout",
          "text": [
            "Inserisci il numero di lotti di opzione che vuoi vendere: 1\n",
            "Inserisci il prezzo di esercizio dell'opzione: 2.1\n",
            "Inserisci il multiplo: 500\n",
            "Inserisci il prezzo dell'opzione sul mercato: 0.695\n",
            "Inserisci la data di scadenza (formato: gg/mm/aa): \n",
            "Inserisci il prezzo dell'azione alla scadenza: 1\n",
            "Schermata di conferma ordine:\n",
            "Lotti di opzione: 1.0\n",
            "Prezzo di esercizio dell'opzione: 2.100\n",
            "Multiplo: 500.000\n",
            "Premio: 0.695 euro\n",
            "Scadenza: \n",
            "Costo operazione: 347.500 euro\n",
            "Prezzo dell'azione alla scadenza: 1.000 euro\n",
            "Perdita se l'azione ha il prezzo specificato alla scadenza: 202.500 euro\n"
          ]
        }
      ]
    }
  ]
}